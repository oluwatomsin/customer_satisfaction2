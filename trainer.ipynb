{
 "cells": [
  {
   "cell_type": "code",
   "execution_count": 1,
   "metadata": {},
   "outputs": [
    {
     "name": "stdout",
     "output_type": "stream",
     "text": [
      "Defaulting to user installation because normal site-packages is not writeable\n"
     ]
    },
    {
     "name": "stdout",
     "output_type": "stream",
     "text": [
      "\u001b[33mWARNING: Ignoring invalid distribution -ransformers (/home/unicconaiadmin/.local/lib/python3.10/site-packages)\u001b[0m\u001b[33m\n",
      "\u001b[0m\u001b[33mWARNING: Ignoring invalid distribution -ransformers (/home/unicconaiadmin/.local/lib/python3.10/site-packages)\u001b[0m\u001b[33m\n",
      "\u001b[0mRequirement already satisfied: zenml[server] in /home/unicconaiadmin/.local/lib/python3.10/site-packages (0.56.2)\n",
      "Requirement already satisfied: bcrypt==4.0.1 in /home/unicconaiadmin/.local/lib/python3.10/site-packages (from zenml[server]) (4.0.1)\n",
      "Requirement already satisfied: azure-mgmt-resource>=21.0.0 in /home/unicconaiadmin/.local/lib/python3.10/site-packages (from zenml[server]) (23.0.1)\n",
      "Requirement already satisfied: pandas>=1.1.5 in /home/unicconaiadmin/.local/lib/python3.10/site-packages (from zenml[server]) (2.1.1)\n",
      "Requirement already satisfied: gitpython<4.0.0,>=3.1.18 in /home/unicconaiadmin/.local/lib/python3.10/site-packages (from zenml[server]) (3.1.37)\n",
      "Requirement already satisfied: alembic<1.9.0,>=1.8.1 in /home/unicconaiadmin/.local/lib/python3.10/site-packages (from zenml[server]) (1.8.1)\n",
      "Requirement already satisfied: pyparsing<3,>=2.4.0 in /home/unicconaiadmin/.local/lib/python3.10/site-packages (from zenml[server]) (2.4.2)\n",
      "Requirement already satisfied: pyyaml>=6.0.1 in /home/unicconaiadmin/.local/lib/python3.10/site-packages (from zenml[server]) (6.0.1)\n",
      "Requirement already satisfied: pymysql<1.1.0,>=1.0.2 in /home/unicconaiadmin/.local/lib/python3.10/site-packages (from zenml[server]) (1.0.3)\n",
      "Requirement already satisfied: sqlalchemy_utils==0.38.3 in /home/unicconaiadmin/.local/lib/python3.10/site-packages (from zenml[server]) (0.38.3)\n",
      "Requirement already satisfied: sqlmodel==0.0.8 in /home/unicconaiadmin/.local/lib/python3.10/site-packages (from zenml[server]) (0.0.8)\n",
      "Requirement already satisfied: distro<2.0.0,>=1.6.0 in /usr/lib/python3/dist-packages (from zenml[server]) (1.7.0)\n",
      "Requirement already satisfied: httplib2<0.20,>=0.19.1 in /home/unicconaiadmin/.local/lib/python3.10/site-packages (from zenml[server]) (0.19.1)\n",
      "Requirement already satisfied: python-dateutil<3.0.0,>=2.8.1 in /home/unicconaiadmin/.local/lib/python3.10/site-packages (from zenml[server]) (2.8.2)\n",
      "Requirement already satisfied: rich[jupyter]>=12.0.0 in /home/unicconaiadmin/.local/lib/python3.10/site-packages (from zenml[server]) (13.5.3)\n",
      "Requirement already satisfied: click<8.1.4,>=8.0.1 in /home/unicconaiadmin/.local/lib/python3.10/site-packages (from zenml[server]) (8.0.2)\n",
      "Requirement already satisfied: click-params<0.4.0,>=0.3.0 in /home/unicconaiadmin/.local/lib/python3.10/site-packages (from zenml[server]) (0.3.0)\n",
      "Requirement already satisfied: psutil>=5.0.0 in /home/unicconaiadmin/.local/lib/python3.10/site-packages (from zenml[server]) (5.9.5)\n",
      "Requirement already satisfied: docker<6.2.0,>=6.1.0 in /home/unicconaiadmin/.local/lib/python3.10/site-packages (from zenml[server]) (6.1.3)\n",
      "Requirement already satisfied: cloudpickle<3,>=2.0.0 in /home/unicconaiadmin/.local/lib/python3.10/site-packages (from zenml[server]) (2.2.1)\n",
      "Requirement already satisfied: pydantic<1.11,>=1.9.0 in /home/unicconaiadmin/.local/lib/python3.10/site-packages (from zenml[server]) (1.10.14)\n",
      "Requirement already satisfied: passlib[bcrypt]<1.8.0,>=1.7.4 in /home/unicconaiadmin/.local/lib/python3.10/site-packages (from zenml[server]) (1.7.4)\n",
      "Requirement already satisfied: python-multipart<0.1.0,>=0.0.5 in /home/unicconaiadmin/.local/lib/python3.10/site-packages (from zenml[server]) (0.0.6)\n",
      "Requirement already satisfied: orjson<3.9.0,>=3.8.3 in /home/unicconaiadmin/.local/lib/python3.10/site-packages (from zenml[server]) (3.8.14)\n",
      "Requirement already satisfied: fastapi-utils<0.3.0,>=0.2.1 in /home/unicconaiadmin/.local/lib/python3.10/site-packages (from zenml[server]) (0.2.1)\n",
      "Requirement already satisfied: pyjwt[crypto]==2.7.* in /home/unicconaiadmin/.local/lib/python3.10/site-packages (from zenml[server]) (2.7.0)\n",
      "Requirement already satisfied: uvicorn[standard]>=0.17.5 in /home/unicconaiadmin/.local/lib/python3.10/site-packages (from zenml[server]) (0.23.2)\n",
      "Requirement already satisfied: Jinja2 in /home/unicconaiadmin/.local/lib/python3.10/site-packages (from zenml[server]) (3.1.2)\n",
      "Requirement already satisfied: ipinfo>=4.4.3 in /home/unicconaiadmin/.local/lib/python3.10/site-packages (from zenml[server]) (5.0.1)\n",
      "Requirement already satisfied: fastapi<0.100,>=0.75 in /home/unicconaiadmin/.local/lib/python3.10/site-packages (from zenml[server]) (0.99.1)\n",
      "Requirement already satisfied: cryptography>=3.4.0 in /home/unicconaiadmin/.local/lib/python3.10/site-packages (from pyjwt[crypto]==2.7.*->zenml[server]) (41.0.7)\n",
      "Requirement already satisfied: SQLAlchemy>=1.3 in /home/unicconaiadmin/.local/lib/python3.10/site-packages (from sqlalchemy_utils==0.38.3->zenml[server]) (1.4.41)\n",
      "Requirement already satisfied: sqlalchemy2-stubs in /home/unicconaiadmin/.local/lib/python3.10/site-packages (from sqlmodel==0.0.8->zenml[server]) (0.0.2a38)\n",
      "Requirement already satisfied: Mako in /usr/lib/python3/dist-packages (from alembic<1.9.0,>=1.8.1->zenml[server]) (1.1.3)\n",
      "Requirement already satisfied: azure-mgmt-core<2.0.0,>=1.3.2 in /home/unicconaiadmin/.local/lib/python3.10/site-packages (from azure-mgmt-resource>=21.0.0->zenml[server]) (1.4.0)\n",
      "Requirement already satisfied: azure-common~=1.1 in /home/unicconaiadmin/.local/lib/python3.10/site-packages (from azure-mgmt-resource>=21.0.0->zenml[server]) (1.1.28)\n",
      "Requirement already satisfied: isodate<1.0.0,>=0.6.1 in /home/unicconaiadmin/.local/lib/python3.10/site-packages (from azure-mgmt-resource>=21.0.0->zenml[server]) (0.6.1)\n",
      "Requirement already satisfied: validators<0.19,>=0.18 in /home/unicconaiadmin/.local/lib/python3.10/site-packages (from click-params<0.4.0,>=0.3.0->zenml[server]) (0.18.2)\n",
      "Requirement already satisfied: websocket-client>=0.32.0 in /home/unicconaiadmin/.local/lib/python3.10/site-packages (from docker<6.2.0,>=6.1.0->zenml[server]) (1.6.4)\n",
      "Requirement already satisfied: packaging>=14.0 in /home/unicconaiadmin/.local/lib/python3.10/site-packages (from docker<6.2.0,>=6.1.0->zenml[server]) (23.2)\n",
      "Requirement already satisfied: requests>=2.26.0 in /home/unicconaiadmin/.local/lib/python3.10/site-packages (from docker<6.2.0,>=6.1.0->zenml[server]) (2.31.0)\n",
      "Requirement already satisfied: urllib3>=1.26.0 in /home/unicconaiadmin/.local/lib/python3.10/site-packages (from docker<6.2.0,>=6.1.0->zenml[server]) (1.26.18)\n",
      "Requirement already satisfied: starlette<0.28.0,>=0.27.0 in /home/unicconaiadmin/.local/lib/python3.10/site-packages (from fastapi<0.100,>=0.75->zenml[server]) (0.27.0)\n",
      "Requirement already satisfied: typing-extensions>=4.5.0 in /home/unicconaiadmin/.local/lib/python3.10/site-packages (from fastapi<0.100,>=0.75->zenml[server]) (4.8.0)\n",
      "Requirement already satisfied: gitdb<5,>=4.0.1 in /home/unicconaiadmin/.local/lib/python3.10/site-packages (from gitpython<4.0.0,>=3.1.18->zenml[server]) (4.0.10)\n",
      "Requirement already satisfied: cachetools in /home/unicconaiadmin/.local/lib/python3.10/site-packages (from ipinfo>=4.4.3->zenml[server]) (5.3.1)\n",
      "Requirement already satisfied: aiohttp<=4 in /home/unicconaiadmin/.local/lib/python3.10/site-packages (from ipinfo>=4.4.3->zenml[server]) (3.8.5)\n",
      "Requirement already satisfied: numpy>=1.22.4 in /home/unicconaiadmin/.local/lib/python3.10/site-packages (from pandas>=1.1.5->zenml[server]) (1.23.5)\n",
      "Requirement already satisfied: pytz>=2020.1 in /home/unicconaiadmin/.local/lib/python3.10/site-packages (from pandas>=1.1.5->zenml[server]) (2023.3)\n",
      "Requirement already satisfied: tzdata>=2022.1 in /home/unicconaiadmin/.local/lib/python3.10/site-packages (from pandas>=1.1.5->zenml[server]) (2023.3)\n",
      "Requirement already satisfied: six>=1.5 in /usr/lib/python3/dist-packages (from python-dateutil<3.0.0,>=2.8.1->zenml[server]) (1.16.0)\n",
      "Requirement already satisfied: markdown-it-py>=2.2.0 in /home/unicconaiadmin/.local/lib/python3.10/site-packages (from rich[jupyter]>=12.0.0->zenml[server]) (3.0.0)\n",
      "Requirement already satisfied: pygments<3.0.0,>=2.13.0 in /home/unicconaiadmin/.local/lib/python3.10/site-packages (from rich[jupyter]>=12.0.0->zenml[server]) (2.16.1)\n",
      "Requirement already satisfied: ipywidgets<9,>=7.5.1 in /home/unicconaiadmin/.local/lib/python3.10/site-packages (from rich[jupyter]>=12.0.0->zenml[server]) (8.1.1)\n",
      "Requirement already satisfied: h11>=0.8 in /home/unicconaiadmin/.local/lib/python3.10/site-packages (from uvicorn[standard]>=0.17.5->zenml[server]) (0.14.0)\n",
      "Requirement already satisfied: websockets>=10.4 in /home/unicconaiadmin/.local/lib/python3.10/site-packages (from uvicorn[standard]>=0.17.5->zenml[server]) (11.0.3)\n",
      "Requirement already satisfied: httptools>=0.5.0 in /home/unicconaiadmin/.local/lib/python3.10/site-packages (from uvicorn[standard]>=0.17.5->zenml[server]) (0.6.1)\n",
      "Requirement already satisfied: uvloop!=0.15.0,!=0.15.1,>=0.14.0 in /home/unicconaiadmin/.local/lib/python3.10/site-packages (from uvicorn[standard]>=0.17.5->zenml[server]) (0.19.0)\n",
      "Requirement already satisfied: watchfiles>=0.13 in /home/unicconaiadmin/.local/lib/python3.10/site-packages (from uvicorn[standard]>=0.17.5->zenml[server]) (0.21.0)\n",
      "Requirement already satisfied: python-dotenv>=0.13 in /home/unicconaiadmin/.local/lib/python3.10/site-packages (from uvicorn[standard]>=0.17.5->zenml[server]) (1.0.1)\n",
      "Requirement already satisfied: MarkupSafe>=2.0 in /home/unicconaiadmin/.local/lib/python3.10/site-packages (from Jinja2->zenml[server]) (2.1.3)\n",
      "Requirement already satisfied: multidict<7.0,>=4.5 in /home/unicconaiadmin/.local/lib/python3.10/site-packages (from aiohttp<=4->ipinfo>=4.4.3->zenml[server]) (6.0.4)\n",
      "Requirement already satisfied: aiosignal>=1.1.2 in /home/unicconaiadmin/.local/lib/python3.10/site-packages (from aiohttp<=4->ipinfo>=4.4.3->zenml[server]) (1.3.1)\n",
      "Requirement already satisfied: yarl<2.0,>=1.0 in /home/unicconaiadmin/.local/lib/python3.10/site-packages (from aiohttp<=4->ipinfo>=4.4.3->zenml[server]) (1.9.2)\n",
      "Requirement already satisfied: charset-normalizer<4.0,>=2.0 in /home/unicconaiadmin/.local/lib/python3.10/site-packages (from aiohttp<=4->ipinfo>=4.4.3->zenml[server]) (3.2.0)\n",
      "Requirement already satisfied: frozenlist>=1.1.1 in /home/unicconaiadmin/.local/lib/python3.10/site-packages (from aiohttp<=4->ipinfo>=4.4.3->zenml[server]) (1.4.0)\n",
      "Requirement already satisfied: async-timeout<5.0,>=4.0.0a3 in /home/unicconaiadmin/.local/lib/python3.10/site-packages (from aiohttp<=4->ipinfo>=4.4.3->zenml[server]) (4.0.3)\n",
      "Requirement already satisfied: attrs>=17.3.0 in /home/unicconaiadmin/.local/lib/python3.10/site-packages (from aiohttp<=4->ipinfo>=4.4.3->zenml[server]) (23.1.0)\n",
      "Requirement already satisfied: azure-core<2.0.0,>=1.26.2 in /home/unicconaiadmin/.local/lib/python3.10/site-packages (from azure-mgmt-core<2.0.0,>=1.3.2->azure-mgmt-resource>=21.0.0->zenml[server]) (1.30.1)\n",
      "Requirement already satisfied: cffi>=1.12 in /home/unicconaiadmin/.local/lib/python3.10/site-packages (from cryptography>=3.4.0->pyjwt[crypto]==2.7.*->zenml[server]) (1.15.1)\n",
      "Requirement already satisfied: smmap<6,>=3.0.1 in /home/unicconaiadmin/.local/lib/python3.10/site-packages (from gitdb<5,>=4.0.1->gitpython<4.0.0,>=3.1.18->zenml[server]) (5.0.1)\n",
      "Requirement already satisfied: traitlets>=4.3.1 in /home/unicconaiadmin/.local/lib/python3.10/site-packages (from ipywidgets<9,>=7.5.1->rich[jupyter]>=12.0.0->zenml[server]) (5.9.0)\n",
      "Requirement already satisfied: widgetsnbextension~=4.0.9 in /home/unicconaiadmin/.local/lib/python3.10/site-packages (from ipywidgets<9,>=7.5.1->rich[jupyter]>=12.0.0->zenml[server]) (4.0.9)\n",
      "Requirement already satisfied: jupyterlab-widgets~=3.0.9 in /home/unicconaiadmin/.local/lib/python3.10/site-packages (from ipywidgets<9,>=7.5.1->rich[jupyter]>=12.0.0->zenml[server]) (3.0.9)\n",
      "Requirement already satisfied: comm>=0.1.3 in /home/unicconaiadmin/.local/lib/python3.10/site-packages (from ipywidgets<9,>=7.5.1->rich[jupyter]>=12.0.0->zenml[server]) (0.1.4)\n",
      "Requirement already satisfied: ipython>=6.1.0 in /home/unicconaiadmin/.local/lib/python3.10/site-packages (from ipywidgets<9,>=7.5.1->rich[jupyter]>=12.0.0->zenml[server]) (8.15.0)\n",
      "Requirement already satisfied: mdurl~=0.1 in /home/unicconaiadmin/.local/lib/python3.10/site-packages (from markdown-it-py>=2.2.0->rich[jupyter]>=12.0.0->zenml[server]) (0.1.2)\n",
      "Requirement already satisfied: idna<4,>=2.5 in /home/unicconaiadmin/.local/lib/python3.10/site-packages (from requests>=2.26.0->docker<6.2.0,>=6.1.0->zenml[server]) (3.6)\n",
      "Requirement already satisfied: certifi>=2017.4.17 in /home/unicconaiadmin/.local/lib/python3.10/site-packages (from requests>=2.26.0->docker<6.2.0,>=6.1.0->zenml[server]) (2024.2.2)\n",
      "Requirement already satisfied: greenlet!=0.4.17 in /home/unicconaiadmin/.local/lib/python3.10/site-packages (from SQLAlchemy>=1.3->sqlalchemy_utils==0.38.3->zenml[server]) (3.0.1)\n",
      "Requirement already satisfied: anyio<5,>=3.4.0 in /home/unicconaiadmin/.local/lib/python3.10/site-packages (from starlette<0.28.0,>=0.27.0->fastapi<0.100,>=0.75->zenml[server]) (3.7.1)\n",
      "Requirement already satisfied: decorator>=3.4.0 in /home/unicconaiadmin/.local/lib/python3.10/site-packages (from validators<0.19,>=0.18->click-params<0.4.0,>=0.3.0->zenml[server]) (4.4.2)\n",
      "Requirement already satisfied: sniffio>=1.1 in /home/unicconaiadmin/.local/lib/python3.10/site-packages (from anyio<5,>=3.4.0->starlette<0.28.0,>=0.27.0->fastapi<0.100,>=0.75->zenml[server]) (1.3.0)\n",
      "Requirement already satisfied: exceptiongroup in /home/unicconaiadmin/.local/lib/python3.10/site-packages (from anyio<5,>=3.4.0->starlette<0.28.0,>=0.27.0->fastapi<0.100,>=0.75->zenml[server]) (1.1.3)\n",
      "Requirement already satisfied: pycparser in /home/unicconaiadmin/.local/lib/python3.10/site-packages (from cffi>=1.12->cryptography>=3.4.0->pyjwt[crypto]==2.7.*->zenml[server]) (2.21)\n",
      "Requirement already satisfied: backcall in /home/unicconaiadmin/.local/lib/python3.10/site-packages (from ipython>=6.1.0->ipywidgets<9,>=7.5.1->rich[jupyter]>=12.0.0->zenml[server]) (0.2.0)\n",
      "Requirement already satisfied: prompt-toolkit!=3.0.37,<3.1.0,>=3.0.30 in /home/unicconaiadmin/.local/lib/python3.10/site-packages (from ipython>=6.1.0->ipywidgets<9,>=7.5.1->rich[jupyter]>=12.0.0->zenml[server]) (3.0.39)\n",
      "Requirement already satisfied: stack-data in /home/unicconaiadmin/.local/lib/python3.10/site-packages (from ipython>=6.1.0->ipywidgets<9,>=7.5.1->rich[jupyter]>=12.0.0->zenml[server]) (0.6.2)\n",
      "Requirement already satisfied: matplotlib-inline in /home/unicconaiadmin/.local/lib/python3.10/site-packages (from ipython>=6.1.0->ipywidgets<9,>=7.5.1->rich[jupyter]>=12.0.0->zenml[server]) (0.1.6)\n",
      "Requirement already satisfied: pexpect>4.3 in /usr/lib/python3/dist-packages (from ipython>=6.1.0->ipywidgets<9,>=7.5.1->rich[jupyter]>=12.0.0->zenml[server]) (4.8.0)\n",
      "Requirement already satisfied: pickleshare in /home/unicconaiadmin/.local/lib/python3.10/site-packages (from ipython>=6.1.0->ipywidgets<9,>=7.5.1->rich[jupyter]>=12.0.0->zenml[server]) (0.7.5)\n",
      "Requirement already satisfied: jedi>=0.16 in /home/unicconaiadmin/.local/lib/python3.10/site-packages (from ipython>=6.1.0->ipywidgets<9,>=7.5.1->rich[jupyter]>=12.0.0->zenml[server]) (0.19.0)\n",
      "Requirement already satisfied: parso<0.9.0,>=0.8.3 in /home/unicconaiadmin/.local/lib/python3.10/site-packages (from jedi>=0.16->ipython>=6.1.0->ipywidgets<9,>=7.5.1->rich[jupyter]>=12.0.0->zenml[server]) (0.8.3)\n",
      "Requirement already satisfied: wcwidth in /home/unicconaiadmin/.local/lib/python3.10/site-packages (from prompt-toolkit!=3.0.37,<3.1.0,>=3.0.30->ipython>=6.1.0->ipywidgets<9,>=7.5.1->rich[jupyter]>=12.0.0->zenml[server]) (0.2.6)\n",
      "Requirement already satisfied: asttokens>=2.1.0 in /home/unicconaiadmin/.local/lib/python3.10/site-packages (from stack-data->ipython>=6.1.0->ipywidgets<9,>=7.5.1->rich[jupyter]>=12.0.0->zenml[server]) (2.4.0)\n",
      "Requirement already satisfied: pure-eval in /home/unicconaiadmin/.local/lib/python3.10/site-packages (from stack-data->ipython>=6.1.0->ipywidgets<9,>=7.5.1->rich[jupyter]>=12.0.0->zenml[server]) (0.2.2)\n",
      "Requirement already satisfied: executing>=1.2.0 in /home/unicconaiadmin/.local/lib/python3.10/site-packages (from stack-data->ipython>=6.1.0->ipywidgets<9,>=7.5.1->rich[jupyter]>=12.0.0->zenml[server]) (1.2.0)\n",
      "\u001b[33mWARNING: Ignoring invalid distribution -ransformers (/home/unicconaiadmin/.local/lib/python3.10/site-packages)\u001b[0m\u001b[33m\n",
      "\u001b[0mNote: you may need to restart the kernel to use updated packages.\n",
      "/usr/lib/python3/dist-packages/paramiko/transport.py:237: CryptographyDeprecationWarning: Blowfish has been deprecated\n",
      "  \"class\": algorithms.Blowfish,\n",
      "\u001b[1;35mNote: NumExpr detected 24 cores but \"NUMEXPR_MAX_THREADS\" not set, so enforcing safe limit of 8.\u001b[0m\n",
      "\u001b[1;35mNumExpr defaulting to 8 threads.\u001b[0m\n",
      "\u001b[2K\u001b[32m⠸\u001b[0m Installing integrations.....\n",
      "\u001b[1A\u001b[2KDefaulting to user installation because normal site-packages is not writeable\n",
      "\u001b[33mWARNING: Ignoring invalid distribution -ransformers (/home/unicconaiadmin/.local/lib/python3.10/site-packages)\u001b[0m\u001b[33m\n",
      "\u001b[0m\u001b[33mWARNING: Ignoring invalid distribution -ransformers (/home/unicconaiadmin/.local/lib/python3.10/site-packages)\u001b[0m\u001b[33m\n",
      "\u001b[0mRequirement already satisfied: pyparsing==2.4.2 in /home/unicconaiadmin/.local/lib/python3.10/site-packages (2.4.2)\n",
      "\u001b[33mWARNING: Ignoring invalid distribution -ransformers (/home/unicconaiadmin/.local/lib/python3.10/site-packages)\u001b[0m\u001b[33m\n",
      "\u001b[0mNote: you may need to restart the kernel to use updated packages.\n"
     ]
    }
   ],
   "source": [
    "%pip install \"zenml[server]\"\n",
    "!zenml integration install sklearn -y\n",
    "%pip install pyparsing==2.4.2\n",
    "\n",
    "import IPython\n",
    "\n",
    "# IPython.Application.instance().kernel.do_shutdown(restart=True)"
   ]
  },
  {
   "cell_type": "code",
   "execution_count": 2,
   "metadata": {},
   "outputs": [],
   "source": [
    "NGROK_TOKEN = \"2FrdinggJCMYB098glpY73WoD4f_6hFdEVRnTJcbgjNxJiyRY\""
   ]
  },
  {
   "cell_type": "code",
   "execution_count": 3,
   "metadata": {},
   "outputs": [],
   "source": [
    "# from zenml.environment import Environment\n",
    "\n",
    "# if Environment.in_google_colab():\n",
    "    \n",
    "#     # Install and authenticate ngrok\n",
    "#     !pip install pyngrok\n",
    "#     !ngrok authtoken {NGROK_TOKEN}"
   ]
  },
  {
   "cell_type": "code",
   "execution_count": 4,
   "metadata": {},
   "outputs": [
    {
     "name": "stdout",
     "output_type": "stream",
     "text": [
      "Defaulting to user installation because normal site-packages is not writeable\n",
      "\u001b[33mWARNING: Ignoring invalid distribution -ransformers (/home/unicconaiadmin/.local/lib/python3.10/site-packages)\u001b[0m\u001b[33m\n",
      "\u001b[0m\u001b[33mWARNING: Ignoring invalid distribution -ransformers (/home/unicconaiadmin/.local/lib/python3.10/site-packages)\u001b[0m\u001b[33m\n",
      "\u001b[0mCollecting pyngrok\n",
      "  Downloading pyngrok-7.1.6-py3-none-any.whl (22 kB)\n",
      "Requirement already satisfied: PyYAML>=5.1 in /home/unicconaiadmin/.local/lib/python3.10/site-packages (from pyngrok) (6.0.1)\n",
      "\u001b[33mWARNING: Ignoring invalid distribution -ransformers (/home/unicconaiadmin/.local/lib/python3.10/site-packages)\u001b[0m\u001b[33m\n",
      "\u001b[0mInstalling collected packages: pyngrok\n",
      "\u001b[33mWARNING: Ignoring invalid distribution -ransformers (/home/unicconaiadmin/.local/lib/python3.10/site-packages)\u001b[0m\u001b[33m\n",
      "\u001b[0mSuccessfully installed pyngrok-7.1.6\n",
      "Authtoken saved to configuration file: /home/unicconaiadmin/.config/ngrok/ngrok.yml                 \n"
     ]
    }
   ],
   "source": [
    "!pip install pyngrok\n",
    "!ngrok authtoken {NGROK_TOKEN}"
   ]
  },
  {
   "cell_type": "code",
   "execution_count": 6,
   "metadata": {},
   "outputs": [
    {
     "name": "stdout",
     "output_type": "stream",
     "text": [
      "/usr/lib/python3/dist-packages/paramiko/transport.py:237: CryptographyDeprecationWarning: Blowfish has been deprecated\n",
      "  \"class\": algorithms.Blowfish,\n",
      "\u001b[1;35mNote: NumExpr detected 24 cores but \"NUMEXPR_MAX_THREADS\" not set, so enforcing safe limit of 8.\u001b[0m\n",
      "\u001b[1;35mNumExpr defaulting to 8 threads.\u001b[0m\n",
      "\u001b[?25l\u001b[1;35mInitializing the ZenML global configuration version to 0.56.2\u001b[0m\n",
      "\u001b[1;35mCreating database tables\u001b[0m\n",
      "\u001b[32m⠋\u001b[0m Initializing ZenML repository at /mnt/SDD1/zenml.\n",
      "\u001b[2K\u001b[1A\u001b[2K\u001b[32m⠙\u001b[0m Initializing ZenML repository at /mnt/SDD1/zenml.\n",
      "\u001b[2K\u001b[1A\u001b[2K\u001b[32m⠹\u001b[0m Initializing ZenML repository at /mnt/SDD1/zenml.\n",
      "\u001b[2K\u001b[1A\u001b[2K\u001b[32m⠸\u001b[0m Initializing ZenML repository at /mnt/SDD1/zenml.\n",
      "\u001b[1;35mCreating default workspace 'default' ...\u001b[0m\n",
      "\u001b[1;35mCreating default stack in workspace default...\u001b[0m\n",
      "\u001b[1;35mCreating default user 'default' ...\u001b[0m\n",
      "\u001b[2K\u001b[1A\u001b[2K\u001b[32m⠼\u001b[0m Initializing ZenML repository at /mnt/SDD1/zenml.\n",
      "\u001b[2K\u001b[1A\u001b[2K\u001b[32m⠴\u001b[0m Initializing ZenML repository at /mnt/SDD1/zenml.\n",
      "\u001b[1;35mSetting the global active workspace to 'default'.\u001b[0m\n",
      "\u001b[33mSetting the global active stack to default.\u001b[0m\n",
      "\u001b[1;35mSetting the repo active workspace to 'default'.\u001b[0m\n",
      "\u001b[33mSetting the repo active stack to default.\u001b[0m\n",
      "\u001b[2K\u001b[1A\u001b[2K\u001b[32m⠦\u001b[0m Initializing ZenML repository at /mnt/SDD1/zenml.\n",
      "\u001b[2K\u001b[1A\u001b[2K\u001b[32m⠧\u001b[0m Initializing ZenML repository at /mnt/SDD1/zenml.\n",
      "\u001b[2K\u001b[1A\u001b[2K\u001b[32m⠇\u001b[0m Initializing ZenML repository at /mnt/SDD1/zenml.\n",
      "\u001b[2K\u001b[1A\u001b[2K\u001b[32m⠏\u001b[0m Initializing ZenML repository at /mnt/SDD1/zenml.\n",
      "\u001b[1;35mReloading configuration file /mnt/SDD1/zenml/.zen/config.yaml\u001b[0m\n",
      "\u001b[2K\u001b[1A\u001b[2K\u001b[2;36mZenML repository initialized at \u001b[0m\u001b[2;35m/mnt/SDD1/\u001b[0m\u001b[2;95mzenml.\u001b[0m\n",
      "\u001b[2;32m⠋\u001b[0m\u001b[2;36m Initializing ZenML repository at /mnt/SDD1/zenml.\u001b[0m\n",
      "\u001b[2K\u001b[1A\u001b[2K\u001b[32m⠋\u001b[0m Initializing ZenML repository at /mnt/SDD1/zenml.\n",
      "\n",
      "\u001b[1A\u001b[2K\u001b[1A\u001b[2K\u001b[2;36mThe local active stack was initialized to \u001b[0m\u001b[2;32m'default'\u001b[0m\u001b[2;36m. This local configuration \u001b[0m\n",
      "\u001b[2;36mwill only take effect when you're running ZenML from the initialized repository \u001b[0m\n",
      "\u001b[2;36mroot, or from a subdirectory. For more information on repositories and \u001b[0m\n",
      "\u001b[2;36mconfigurations, please visit \u001b[0m\n",
      "\u001b[2;4;94mhttps://docs.zenml.io/user-guide/starter-guide/understand-stacks.\u001b[0m\n"
     ]
    }
   ],
   "source": [
    "## ZEN SETUP\n",
    "\n",
    "!rm -rf .zen\n",
    "!zenml init"
   ]
  },
  {
   "cell_type": "code",
   "execution_count": 9,
   "metadata": {},
   "outputs": [
    {
     "name": "stdout",
     "output_type": "stream",
     "text": [
      "Test accuracy: 0.9583333333333334\n"
     ]
    }
   ],
   "source": [
    "import numpy as np\n",
    "from sklearn.base import ClassifierMixin\n",
    "from sklearn.svm import SVC\n",
    "from sklearn.datasets import load_digits\n",
    "from sklearn.model_selection import train_test_split\n",
    "\n",
    "\n",
    "def train_test() -> None:\n",
    "    \"\"\" Training and testing a simple SVC model\"\"\"\n",
    "    digits = load_digits()\n",
    "    data = digits.images.reshape((len(digits.images), -1))\n",
    "    X_train, X_test, y_train, y_test = train_test_split(data, digits.target, shuffle=False, test_size=0.2)\n",
    "    model = SVC(gamma=0.001)\n",
    "    model.fit(X_train, y_train)\n",
    "    test_acc = model.score(X_test, y_test)\n",
    "    print(f\"Test accuracy: {test_acc}\")\n",
    "    \n",
    "    \n",
    "train_test()"
   ]
  },
  {
   "cell_type": "code",
   "execution_count": 10,
   "metadata": {},
   "outputs": [],
   "source": [
    "from zenml import step\n",
    "from typing_extensions import Annotated\n",
    "import pandas as pd\n",
    "from typing import Tuple\n",
    "\n",
    "\n",
    "@step\n",
    "def importer() -> Tuple[Annotated[\n",
    "    np.ndarray, \"X_train\"],\n",
    "    Annotated[np.ndarray, \"X_test\"],\n",
    "    Annotated[np.ndarray, \"y_train\"],\n",
    "    Annotated[np.ndarray, \"y_test\"]\n",
    "]:\n",
    "    \"\"\"Load the digits dataset as a numpy array\"\"\"\n",
    "    digits = load_digits()\n",
    "    data = digits.images.reshape((len(digits.images), -1))\n",
    "    X_train, X_test, y_train, y_test = train_test_split(\n",
    "        data, digits.target, test_size=0.2, shuffle=False\n",
    "        )\n",
    "    return X_train, X_test, y_train, y_test\n",
    "\n",
    "\n",
    "@step\n",
    "def svc_trainer(\n",
    "    X_train: np.ndarray,\n",
    "    y_train: np.ndarray\n",
    ") -> ClassifierMixin:\n",
    "    \"\"\" Training a SVC model\"\"\"\n",
    "    model = SVC(gamma=0.001)\n",
    "    model.fit(X_train, y_train)\n",
    "    return model\n",
    "\n",
    "\n",
    "@step\n",
    "def evaluator(\n",
    "    X_test: np.ndarray,\n",
    "    y_test: np.ndarray,\n",
    "    model: ClassifierMixin\n",
    ") -> float:\n",
    "    \"\"\"This helps to evaluate the performance of the model\"\"\"\n",
    "    test_acc = model.score(X_test, y_test)\n",
    "    print(f\"Test Accuracy: {test_acc}\")\n",
    "    return test_acc"
   ]
  },
  {
   "cell_type": "code",
   "execution_count": 11,
   "metadata": {},
   "outputs": [],
   "source": [
    "from zenml import pipeline\n",
    "\n",
    "\n",
    "@pipeline\n",
    "def digits_pipeline():\n",
    "    \"\"\"This links all steps in the pipeline together\"\"\"\n",
    "    X_train, X_test, y_train, y_test = importer()\n",
    "    model = svc_trainer(X_train=X_train, y_train=y_train)\n",
    "    evaluator(X_test=X_test, y_test=y_test, model=model)"
   ]
  },
  {
   "cell_type": "code",
   "execution_count": 12,
   "metadata": {},
   "outputs": [
    {
     "name": "stdout",
     "output_type": "stream",
     "text": [
      "\u001b[1;35mInitiating a new run for the pipeline: \u001b[0m\u001b[1;36mdigits_pipeline\u001b[1;35m.\u001b[0m\n",
      "\u001b[1;35mRegistered new version: \u001b[0m\u001b[1;36m(version 1)\u001b[1;35m.\u001b[0m\n",
      "\u001b[1;35mExecuting a new run.\u001b[0m\n",
      "\u001b[1;35mUsing user: \u001b[0m\u001b[1;36mdefault\u001b[1;35m\u001b[0m\n",
      "\u001b[1;35mUsing stack: \u001b[0m\u001b[1;36mdefault\u001b[1;35m\u001b[0m\n",
      "\u001b[1;35m  artifact_store: \u001b[0m\u001b[1;36mdefault\u001b[1;35m\u001b[0m\n",
      "\u001b[1;35m  orchestrator: \u001b[0m\u001b[1;36mdefault\u001b[1;35m\u001b[0m\n",
      "\u001b[1;35mYou can visualize your pipeline runs in the \u001b[0m\u001b[1;36mZenML Dashboard\u001b[1;35m. In order to try it locally, please run \u001b[0m\u001b[1;36mzenml up\u001b[1;35m.\u001b[0m\n",
      "\u001b[1;35mStep \u001b[0m\u001b[1;36mimporter\u001b[1;35m has started.\u001b[0m\n",
      "/home/unicconaiadmin/.local/lib/python3.10/site-packages/matplotlib/projections/__init__.py:63: UserWarning: Unable to import Axes3D. This may be due to multiple versions of Matplotlib being installed (e.g. as a system package and as a pip package). As a result, the 3D projection is not available.\n",
      "  warnings.warn(\"Unable to import Axes3D. This may be due to multiple versions of \"\n",
      "\u001b[1;35mStep \u001b[0m\u001b[1;36mimporter\u001b[1;35m has finished in \u001b[0m\u001b[1;36m0.960s\u001b[1;35m.\u001b[0m\n",
      "\u001b[1;35mStep \u001b[0m\u001b[1;36msvc_trainer\u001b[1;35m has started.\u001b[0m\n",
      "\u001b[1;35mStep \u001b[0m\u001b[1;36msvc_trainer\u001b[1;35m has finished in \u001b[0m\u001b[1;36m0.167s\u001b[1;35m.\u001b[0m\n",
      "\u001b[1;35mStep \u001b[0m\u001b[1;36mevaluator\u001b[1;35m has started.\u001b[0m\n",
      "Test Accuracy: 0.9583333333333334\n",
      "\u001b[1;35mStep \u001b[0m\u001b[1;36mevaluator\u001b[1;35m has finished in \u001b[0m\u001b[1;36m0.871s\u001b[1;35m.\u001b[0m\n",
      "\u001b[1;35mPipeline run has finished in \u001b[0m\u001b[1;36m2.104s\u001b[1;35m.\u001b[0m\n"
     ]
    }
   ],
   "source": [
    "digits_svc_pipeline = digits_pipeline()"
   ]
  },
  {
   "cell_type": "code",
   "execution_count": null,
   "metadata": {},
   "outputs": [],
   "source": []
  }
 ],
 "metadata": {
  "kernelspec": {
   "display_name": "Python 3",
   "language": "python",
   "name": "python3"
  },
  "language_info": {
   "codemirror_mode": {
    "name": "ipython",
    "version": 3
   },
   "file_extension": ".py",
   "mimetype": "text/x-python",
   "name": "python",
   "nbconvert_exporter": "python",
   "pygments_lexer": "ipython3",
   "version": "3.10.12"
  }
 },
 "nbformat": 4,
 "nbformat_minor": 2
}
